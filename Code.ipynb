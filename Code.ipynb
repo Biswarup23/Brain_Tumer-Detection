{
 "cells": [
  {
   "cell_type": "code",
   "execution_count": 1,
   "id": "59fb9bca",
   "metadata": {},
   "outputs": [],
   "source": [
    "#Importing os"
   ]
  },
  {
   "cell_type": "code",
   "execution_count": 2,
   "id": "532343ba",
   "metadata": {},
   "outputs": [],
   "source": [
    "import os"
   ]
  },
  {
   "cell_type": "code",
   "execution_count": 3,
   "id": "a7052bac",
   "metadata": {},
   "outputs": [],
   "source": [
    "#Importing Imortent Libaries"
   ]
  },
  {
   "cell_type": "code",
   "execution_count": 4,
   "id": "9cc2ffe5",
   "metadata": {},
   "outputs": [],
   "source": [
    "import pandas as pd\n",
    "import numpy as np\n",
    "import os\n",
    "import glob\n",
    "import tensorflow as tf"
   ]
  },
  {
   "cell_type": "code",
   "execution_count": 5,
   "id": "2ae08407",
   "metadata": {},
   "outputs": [],
   "source": [
    "#Importing libaries for Image"
   ]
  },
  {
   "cell_type": "code",
   "execution_count": 6,
   "id": "9c981a83",
   "metadata": {},
   "outputs": [],
   "source": [
    "import PIL\n",
    "from PIL import Image\n",
    "import imageio"
   ]
  },
  {
   "cell_type": "code",
   "execution_count": 7,
   "id": "bfa49510",
   "metadata": {},
   "outputs": [],
   "source": [
    "#For data visualization"
   ]
  },
  {
   "cell_type": "code",
   "execution_count": 8,
   "id": "78c417b3",
   "metadata": {},
   "outputs": [],
   "source": [
    "import matplotlib.pyplot as plt\n",
    "import seaborn as sn\n",
    "import numpy as np\n",
    "import pathlib"
   ]
  },
  {
   "cell_type": "code",
   "execution_count": 9,
   "id": "09852abf",
   "metadata": {},
   "outputs": [],
   "source": [
    "#For geeting the current Directory"
   ]
  },
  {
   "cell_type": "code",
   "execution_count": 10,
   "id": "5ed54f06",
   "metadata": {},
   "outputs": [
    {
     "data": {
      "text/plain": [
       "'D:\\\\Jupyter Notebook\\\\Brain_Tumor Project'"
      ]
     },
     "execution_count": 10,
     "metadata": {},
     "output_type": "execute_result"
    }
   ],
   "source": [
    "os.getcwd()"
   ]
  },
  {
   "cell_type": "code",
   "execution_count": 11,
   "id": "f445ae9c",
   "metadata": {},
   "outputs": [],
   "source": [
    "import os\n",
    "for dirname, _, filename in os.walk('D:\\\\BrainTumor\\\\archive\\\\'):\n",
    "    for filename in filenames:\n",
    "        print(os.path.joint(dirname,filename))"
   ]
  },
  {
   "cell_type": "code",
   "execution_count": 12,
   "id": "622e6f1e",
   "metadata": {},
   "outputs": [],
   "source": [
    "import cv2\n",
    "import matplotlib.pyplot as plt\n",
    "import os\n",
    "import tensorflow as tf\n",
    "from tensorflow import keras\n",
    "from PIL import Image\n",
    "import numpy as np\n",
    "from sklearn.model_selection import train_test_split\n",
    "from tensorflow.keras.utils import normalize\n",
    "from keras.models import Sequential\n",
    "from keras.layers import Conv2D,MaxPooling2D\n",
    "from keras.layers import Activation, Dropout,Flatten,Dense\n",
    "from tensorflow.keras.utils import to_categorical"
   ]
  },
  {
   "cell_type": "code",
   "execution_count": 13,
   "id": "bb490cdd",
   "metadata": {},
   "outputs": [],
   "source": [
    "#Geting path of the file "
   ]
  },
  {
   "cell_type": "code",
   "execution_count": 14,
   "id": "50c57f52",
   "metadata": {},
   "outputs": [],
   "source": [
    "image_directory=('D:\\\\Brain_Tumer\\\\archive\\\\')"
   ]
  },
  {
   "cell_type": "code",
   "execution_count": 15,
   "id": "ce439b19",
   "metadata": {},
   "outputs": [],
   "source": [
    "no_tumer_images=os.listdir('D:\\\\Jupyter Notebook\\\\Brain_Tumor Project\\\\archive\\\\no')"
   ]
  },
  {
   "cell_type": "code",
   "execution_count": 16,
   "id": "ebb5be35",
   "metadata": {},
   "outputs": [],
   "source": [
    "yes_tumer_images=os.listdir('D:\\\\Jupyter Notebook\\\\Brain_Tumor Project\\\\archive\\\\yes')"
   ]
  },
  {
   "cell_type": "code",
   "execution_count": 17,
   "id": "3d886552",
   "metadata": {},
   "outputs": [],
   "source": [
    "#Initialize dataset and label arrays"
   ]
  },
  {
   "cell_type": "code",
   "execution_count": 18,
   "id": "c8d164cc",
   "metadata": {},
   "outputs": [],
   "source": [
    "dataset=[]\n",
    "label=[]"
   ]
  },
  {
   "cell_type": "code",
   "execution_count": 19,
   "id": "5016518b",
   "metadata": {},
   "outputs": [],
   "source": [
    "#Loop over each image in each catagort\n",
    "#For image labelled with no"
   ]
  },
  {
   "cell_type": "code",
   "execution_count": 20,
   "id": "b4d5e2f7",
   "metadata": {},
   "outputs": [],
   "source": [
    "for i,image_name in enumerate(no_tumer_images):\n",
    "    if(image_name.split('.')[1]=='jpg'):\n",
    "        image=cv2.imread('D:/Jupyter Notebook/Brain_Tumor Project/archive/no/'+image_name)\n",
    "        image=Image.fromarray(image,'RGB')\n",
    "        image=image.resize((64,64))\n",
    "        dataset.append(np.array(image))\n",
    "        label.append(0)"
   ]
  },
  {
   "cell_type": "code",
   "execution_count": 21,
   "id": "4899916b",
   "metadata": {},
   "outputs": [],
   "source": [
    "#Loop over each image in each catagort\n",
    "#For image labelled with yes"
   ]
  },
  {
   "cell_type": "code",
   "execution_count": 22,
   "id": "fa28874e",
   "metadata": {},
   "outputs": [],
   "source": [
    "for i,image_name in enumerate(yes_tumer_images):\n",
    "    if(image_name.split('.')[1]=='jpg'):\n",
    "        image=cv2.imread('D:/Jupyter Notebook/Brain_Tumor Project/archive/yes/'+image_name)\n",
    "        image=Image.fromarray(image,'RGB')\n",
    "        image=image.resize((64,64))\n",
    "        dataset.append(np.array(image))\n",
    "        label.append(1)"
   ]
  },
  {
   "cell_type": "code",
   "execution_count": 23,
   "id": "a9ac1f48",
   "metadata": {},
   "outputs": [],
   "source": [
    "dataset=np.array(dataset)\n",
    "label=np.array(label)"
   ]
  },
  {
   "cell_type": "code",
   "execution_count": 24,
   "id": "e59ff4c0",
   "metadata": {},
   "outputs": [
    {
     "name": "stdout",
     "output_type": "stream",
     "text": [
      "###########DATA_SET###########\n",
      "[[[[ 0  0  0]\n",
      "   [ 0  0  0]\n",
      "   [ 0  0  0]\n",
      "   ...\n",
      "   [ 0  0  0]\n",
      "   [ 0  0  0]\n",
      "   [ 0  0  0]]\n",
      "\n",
      "  [[ 0  0  0]\n",
      "   [ 0  0  0]\n",
      "   [ 0  0  0]\n",
      "   ...\n",
      "   [ 0  0  0]\n",
      "   [ 0  0  0]\n",
      "   [ 0  0  0]]\n",
      "\n",
      "  [[ 0  0  0]\n",
      "   [ 0  0  0]\n",
      "   [ 0  0  0]\n",
      "   ...\n",
      "   [ 0  0  0]\n",
      "   [ 0  0  0]\n",
      "   [ 0  0  0]]\n",
      "\n",
      "  ...\n",
      "\n",
      "  [[ 0  0  0]\n",
      "   [ 0  0  0]\n",
      "   [ 0  0  0]\n",
      "   ...\n",
      "   [ 0  0  0]\n",
      "   [ 0  0  0]\n",
      "   [ 0  0  0]]\n",
      "\n",
      "  [[ 0  0  0]\n",
      "   [ 0  0  0]\n",
      "   [ 0  0  0]\n",
      "   ...\n",
      "   [ 0  0  0]\n",
      "   [ 0  0  0]\n",
      "   [ 0  0  0]]\n",
      "\n",
      "  [[ 0  0  0]\n",
      "   [ 0  0  0]\n",
      "   [ 0  0  0]\n",
      "   ...\n",
      "   [ 0  0  0]\n",
      "   [ 0  0  0]\n",
      "   [ 0  0  0]]]\n",
      "\n",
      "\n",
      " [[[ 0  0  0]\n",
      "   [ 0  0  0]\n",
      "   [ 0  0  0]\n",
      "   ...\n",
      "   [ 0  0  0]\n",
      "   [ 0  0  0]\n",
      "   [ 0  0  0]]\n",
      "\n",
      "  [[ 0  0  0]\n",
      "   [ 0  0  0]\n",
      "   [ 0  0  0]\n",
      "   ...\n",
      "   [ 0  0  0]\n",
      "   [ 0  0  0]\n",
      "   [ 0  0  0]]\n",
      "\n",
      "  [[ 0  0  0]\n",
      "   [ 0  0  0]\n",
      "   [ 0  0  0]\n",
      "   ...\n",
      "   [ 0  0  0]\n",
      "   [ 0  0  0]\n",
      "   [ 0  0  0]]\n",
      "\n",
      "  ...\n",
      "\n",
      "  [[ 0  0  0]\n",
      "   [ 0  0  0]\n",
      "   [ 0  0  0]\n",
      "   ...\n",
      "   [ 0  0  0]\n",
      "   [ 0  0  0]\n",
      "   [ 0  0  0]]\n",
      "\n",
      "  [[ 0  0  0]\n",
      "   [ 0  0  0]\n",
      "   [ 0  0  0]\n",
      "   ...\n",
      "   [ 0  0  0]\n",
      "   [ 0  0  0]\n",
      "   [ 0  0  0]]\n",
      "\n",
      "  [[ 0  0  0]\n",
      "   [ 0  0  0]\n",
      "   [ 0  0  0]\n",
      "   ...\n",
      "   [ 0  0  0]\n",
      "   [ 0  0  0]\n",
      "   [ 0  0  0]]]\n",
      "\n",
      "\n",
      " [[[16 16 16]\n",
      "   [16 16 16]\n",
      "   [16 16 16]\n",
      "   ...\n",
      "   [16 16 16]\n",
      "   [16 16 16]\n",
      "   [16 16 16]]\n",
      "\n",
      "  [[16 16 16]\n",
      "   [16 16 16]\n",
      "   [16 16 16]\n",
      "   ...\n",
      "   [16 16 16]\n",
      "   [16 16 16]\n",
      "   [16 16 16]]\n",
      "\n",
      "  [[16 16 16]\n",
      "   [16 16 16]\n",
      "   [16 16 16]\n",
      "   ...\n",
      "   [16 16 16]\n",
      "   [16 16 16]\n",
      "   [16 16 16]]\n",
      "\n",
      "  ...\n",
      "\n",
      "  [[16 16 16]\n",
      "   [16 16 16]\n",
      "   [16 16 16]\n",
      "   ...\n",
      "   [16 16 16]\n",
      "   [16 16 16]\n",
      "   [16 16 16]]\n",
      "\n",
      "  [[16 16 16]\n",
      "   [16 16 16]\n",
      "   [16 16 16]\n",
      "   ...\n",
      "   [16 16 16]\n",
      "   [16 16 16]\n",
      "   [16 16 16]]\n",
      "\n",
      "  [[16 16 16]\n",
      "   [16 16 16]\n",
      "   [16 16 16]\n",
      "   ...\n",
      "   [16 16 16]\n",
      "   [16 16 16]\n",
      "   [16 16 16]]]\n",
      "\n",
      "\n",
      " ...\n",
      "\n",
      "\n",
      " [[[ 1  1  1]\n",
      "   [ 2  2  2]\n",
      "   [ 2  2  2]\n",
      "   ...\n",
      "   [ 2  2  2]\n",
      "   [ 2  2  2]\n",
      "   [ 2  2  2]]\n",
      "\n",
      "  [[ 3  3  3]\n",
      "   [ 3  3  3]\n",
      "   [ 2  2  2]\n",
      "   ...\n",
      "   [ 3  3  3]\n",
      "   [ 3  3  3]\n",
      "   [ 3  3  3]]\n",
      "\n",
      "  [[ 3  3  3]\n",
      "   [ 3  3  3]\n",
      "   [ 2  2  2]\n",
      "   ...\n",
      "   [ 3  3  3]\n",
      "   [ 2  2  2]\n",
      "   [ 2  2  2]]\n",
      "\n",
      "  ...\n",
      "\n",
      "  [[ 3  3  3]\n",
      "   [ 4  4  4]\n",
      "   [ 4  4  4]\n",
      "   ...\n",
      "   [ 2  2  2]\n",
      "   [ 2  2  2]\n",
      "   [ 2  2  2]]\n",
      "\n",
      "  [[ 2  2  2]\n",
      "   [ 2  2  2]\n",
      "   [ 2  2  2]\n",
      "   ...\n",
      "   [ 2  2  2]\n",
      "   [ 2  2  2]\n",
      "   [ 2  2  2]]\n",
      "\n",
      "  [[ 2  2  2]\n",
      "   [ 2  2  2]\n",
      "   [ 1  1  1]\n",
      "   ...\n",
      "   [ 1  1  1]\n",
      "   [ 1  1  1]\n",
      "   [ 1  1  1]]]\n",
      "\n",
      "\n",
      " [[[ 0  0  0]\n",
      "   [ 0  0  0]\n",
      "   [ 0  0  0]\n",
      "   ...\n",
      "   [ 0  0  0]\n",
      "   [ 0  0  0]\n",
      "   [ 0  0  0]]\n",
      "\n",
      "  [[ 0  0  0]\n",
      "   [ 0  0  0]\n",
      "   [ 0  0  0]\n",
      "   ...\n",
      "   [ 0  0  0]\n",
      "   [ 0  0  0]\n",
      "   [ 0  0  0]]\n",
      "\n",
      "  [[ 0  0  0]\n",
      "   [ 0  0  0]\n",
      "   [ 0  0  0]\n",
      "   ...\n",
      "   [ 0  0  0]\n",
      "   [ 0  0  0]\n",
      "   [ 0  0  0]]\n",
      "\n",
      "  ...\n",
      "\n",
      "  [[ 0  0  0]\n",
      "   [ 0  0  0]\n",
      "   [ 0  0  0]\n",
      "   ...\n",
      "   [ 0  0  0]\n",
      "   [ 0  0  0]\n",
      "   [ 0  0  0]]\n",
      "\n",
      "  [[ 0  0  0]\n",
      "   [ 0  0  0]\n",
      "   [ 0  0  0]\n",
      "   ...\n",
      "   [ 0  0  0]\n",
      "   [ 0  0  0]\n",
      "   [ 0  0  0]]\n",
      "\n",
      "  [[ 0  0  0]\n",
      "   [ 0  0  0]\n",
      "   [ 0  0  0]\n",
      "   ...\n",
      "   [ 0  0  0]\n",
      "   [ 0  0  0]\n",
      "   [ 0  0  0]]]\n",
      "\n",
      "\n",
      " [[[ 4  4  4]\n",
      "   [ 4  4  4]\n",
      "   [ 4  4  4]\n",
      "   ...\n",
      "   [ 3  3  3]\n",
      "   [ 5  5  5]\n",
      "   [ 1  1  1]]\n",
      "\n",
      "  [[ 4  4  4]\n",
      "   [ 4  4  4]\n",
      "   [ 3  3  3]\n",
      "   ...\n",
      "   [ 3  3  3]\n",
      "   [ 5  5  5]\n",
      "   [ 1  1  1]]\n",
      "\n",
      "  [[ 4  4  4]\n",
      "   [ 4  4  4]\n",
      "   [ 5  5  5]\n",
      "   ...\n",
      "   [ 4  4  4]\n",
      "   [ 5  5  5]\n",
      "   [ 1  1  1]]\n",
      "\n",
      "  ...\n",
      "\n",
      "  [[ 4  4  4]\n",
      "   [ 4  4  4]\n",
      "   [ 4  4  4]\n",
      "   ...\n",
      "   [ 4  4  4]\n",
      "   [ 3  3  3]\n",
      "   [ 0  0  0]]\n",
      "\n",
      "  [[ 4  4  4]\n",
      "   [ 4  4  4]\n",
      "   [ 4  4  4]\n",
      "   ...\n",
      "   [ 3  3  3]\n",
      "   [ 3  3  3]\n",
      "   [ 1  1  1]]\n",
      "\n",
      "  [[ 4  4  4]\n",
      "   [ 4  4  4]\n",
      "   [ 4  4  4]\n",
      "   ...\n",
      "   [ 4  4  4]\n",
      "   [ 1  1  1]\n",
      "   [ 0  0  0]]]]\n"
     ]
    }
   ],
   "source": [
    "print(\"###########DATA_SET###########\")\n",
    "print(dataset)"
   ]
  },
  {
   "cell_type": "code",
   "execution_count": 25,
   "id": "93ef51a7",
   "metadata": {},
   "outputs": [
    {
     "name": "stdout",
     "output_type": "stream",
     "text": [
      "###########LABEL###########\n",
      "[0 0 0 ... 1 1 1]\n"
     ]
    }
   ],
   "source": [
    "print(\"###########LABEL###########\")\n",
    "print(label)"
   ]
  },
  {
   "cell_type": "code",
   "execution_count": 26,
   "id": "0208027f",
   "metadata": {},
   "outputs": [
    {
     "name": "stdout",
     "output_type": "stream",
     "text": [
      "3000\n"
     ]
    }
   ],
   "source": [
    "print(len(label))"
   ]
  },
  {
   "cell_type": "code",
   "execution_count": 27,
   "id": "51e80b1d",
   "metadata": {},
   "outputs": [],
   "source": [
    "#convert the dataset and Label to numy array "
   ]
  },
  {
   "cell_type": "code",
   "execution_count": 28,
   "id": "7ca99e99",
   "metadata": {},
   "outputs": [
    {
     "name": "stdout",
     "output_type": "stream",
     "text": [
      "##########\n"
     ]
    }
   ],
   "source": [
    "dataset=np.array(dataset)\n",
    "label=np.array(label)\n",
    "print(\"##########\")"
   ]
  },
  {
   "cell_type": "code",
   "execution_count": 29,
   "id": "e2241b58",
   "metadata": {},
   "outputs": [],
   "source": [
    "x_train, x_test, y_train, y_test = train_test_split(dataset, label, test_size = 0.2, random_state = 42)"
   ]
  },
  {
   "cell_type": "code",
   "execution_count": 30,
   "id": "f658de1d",
   "metadata": {},
   "outputs": [
    {
     "name": "stdout",
     "output_type": "stream",
     "text": [
      "(2400, 64, 64, 3)\n",
      "(2400,)\n"
     ]
    }
   ],
   "source": [
    "print(x_train.shape)\n",
    "print(y_train.shape)"
   ]
  },
  {
   "cell_type": "code",
   "execution_count": 31,
   "id": "068ba594",
   "metadata": {},
   "outputs": [
    {
     "name": "stdout",
     "output_type": "stream",
     "text": [
      "(600, 64, 64, 3)\n",
      "(600,)\n"
     ]
    }
   ],
   "source": [
    "print(x_test.shape)\n",
    "print(y_test.shape)"
   ]
  },
  {
   "cell_type": "code",
   "execution_count": 32,
   "id": "af5f6c33",
   "metadata": {},
   "outputs": [],
   "source": [
    "#Notmalise the data for training purpose"
   ]
  },
  {
   "cell_type": "code",
   "execution_count": 33,
   "id": "067d7f42",
   "metadata": {},
   "outputs": [
    {
     "name": "stdout",
     "output_type": "stream",
     "text": [
      "#################\n"
     ]
    }
   ],
   "source": [
    "x_train=normalize(x_train,axis=1)\n",
    "x_test=normalize(x_test,axis=1)\n",
    "print(\"#################\")"
   ]
  },
  {
   "cell_type": "code",
   "execution_count": 34,
   "id": "e032ca73",
   "metadata": {},
   "outputs": [],
   "source": [
    "#Creating CNN Model"
   ]
  },
  {
   "cell_type": "code",
   "execution_count": 35,
   "id": "99cb44b7",
   "metadata": {},
   "outputs": [],
   "source": [
    "model=Sequential()"
   ]
  },
  {
   "cell_type": "code",
   "execution_count": 36,
   "id": "eeff3a4c",
   "metadata": {},
   "outputs": [],
   "source": [
    "model.add(Conv2D(32, (3,3), input_shape = (64,64, 3)))\n",
    "model.add(Activation('relu'))\n",
    "model.add(MaxPooling2D(pool_size=(2,2)))"
   ]
  },
  {
   "cell_type": "code",
   "execution_count": 37,
   "id": "fae293b7",
   "metadata": {},
   "outputs": [],
   "source": [
    "model.add(Conv2D(32, (3,3), kernel_initializer = 'he_uniform'))\n",
    "model.add(Activation('relu'))\n",
    "model.add(MaxPooling2D(pool_size=(2,2)))"
   ]
  },
  {
   "cell_type": "code",
   "execution_count": 38,
   "id": "5682d509",
   "metadata": {},
   "outputs": [],
   "source": [
    "model.add(Conv2D(64, (3,3),  kernel_initializer = 'he_uniform'))\n",
    "model.add(Activation('relu'))\n",
    "model.add(MaxPooling2D(pool_size=(2,2)))"
   ]
  },
  {
   "cell_type": "code",
   "execution_count": 39,
   "id": "067431c3",
   "metadata": {},
   "outputs": [],
   "source": [
    "model.add(Flatten())\n",
    "model.add(Dense(64))\n",
    "model.add(Activation('relu'))\n",
    "model.add(Dropout(0.5))\n",
    "model.add(Dense(1))"
   ]
  },
  {
   "cell_type": "code",
   "execution_count": 40,
   "id": "f730d6eb",
   "metadata": {},
   "outputs": [],
   "source": [
    "model.add(Activation('sigmoid'))"
   ]
  },
  {
   "cell_type": "code",
   "execution_count": 41,
   "id": "5fd32b99",
   "metadata": {},
   "outputs": [
    {
     "name": "stdout",
     "output_type": "stream",
     "text": [
      "Model: \"sequential\"\n",
      "_________________________________________________________________\n",
      " Layer (type)                Output Shape              Param #   \n",
      "=================================================================\n",
      " conv2d (Conv2D)             (None, 62, 62, 32)        896       \n",
      "                                                                 \n",
      " activation (Activation)     (None, 62, 62, 32)        0         \n",
      "                                                                 \n",
      " max_pooling2d (MaxPooling2D  (None, 31, 31, 32)       0         \n",
      " )                                                               \n",
      "                                                                 \n",
      " conv2d_1 (Conv2D)           (None, 29, 29, 32)        9248      \n",
      "                                                                 \n",
      " activation_1 (Activation)   (None, 29, 29, 32)        0         \n",
      "                                                                 \n",
      " max_pooling2d_1 (MaxPooling  (None, 14, 14, 32)       0         \n",
      " 2D)                                                             \n",
      "                                                                 \n",
      " conv2d_2 (Conv2D)           (None, 12, 12, 64)        18496     \n",
      "                                                                 \n",
      " activation_2 (Activation)   (None, 12, 12, 64)        0         \n",
      "                                                                 \n",
      " max_pooling2d_2 (MaxPooling  (None, 6, 6, 64)         0         \n",
      " 2D)                                                             \n",
      "                                                                 \n",
      " flatten (Flatten)           (None, 2304)              0         \n",
      "                                                                 \n",
      " dense (Dense)               (None, 64)                147520    \n",
      "                                                                 \n",
      " activation_3 (Activation)   (None, 64)                0         \n",
      "                                                                 \n",
      " dropout (Dropout)           (None, 64)                0         \n",
      "                                                                 \n",
      " dense_1 (Dense)             (None, 1)                 65        \n",
      "                                                                 \n",
      " activation_4 (Activation)   (None, 1)                 0         \n",
      "                                                                 \n",
      "=================================================================\n",
      "Total params: 176,225\n",
      "Trainable params: 176,225\n",
      "Non-trainable params: 0\n",
      "_________________________________________________________________\n"
     ]
    }
   ],
   "source": [
    "model.summary()"
   ]
  },
  {
   "cell_type": "code",
   "execution_count": 42,
   "id": "841d73fe",
   "metadata": {},
   "outputs": [],
   "source": [
    "model.compile(loss='binary_crossentropy',optimizer='adam',metrics=['accuracy'])"
   ]
  },
  {
   "cell_type": "code",
   "execution_count": 43,
   "id": "a947aa8a",
   "metadata": {},
   "outputs": [
    {
     "name": "stdout",
     "output_type": "stream",
     "text": [
      "Epoch 1/10\n",
      "150/150 [==============================] - 8s 48ms/step - loss: 0.5505 - accuracy: 0.7138 - val_loss: 0.4172 - val_accuracy: 0.8083\n",
      "Epoch 2/10\n",
      "150/150 [==============================] - 7s 49ms/step - loss: 0.4170 - accuracy: 0.8213 - val_loss: 0.3205 - val_accuracy: 0.8583\n",
      "Epoch 3/10\n",
      "150/150 [==============================] - 8s 51ms/step - loss: 0.3258 - accuracy: 0.8646 - val_loss: 0.2576 - val_accuracy: 0.8900\n",
      "Epoch 4/10\n",
      "150/150 [==============================] - 8s 53ms/step - loss: 0.2494 - accuracy: 0.9079 - val_loss: 0.2082 - val_accuracy: 0.9200\n",
      "Epoch 5/10\n",
      "150/150 [==============================] - 8s 51ms/step - loss: 0.1833 - accuracy: 0.9358 - val_loss: 0.1495 - val_accuracy: 0.9550\n",
      "Epoch 6/10\n",
      "150/150 [==============================] - 8s 51ms/step - loss: 0.1184 - accuracy: 0.9613 - val_loss: 0.1455 - val_accuracy: 0.9483\n",
      "Epoch 7/10\n",
      "150/150 [==============================] - 8s 53ms/step - loss: 0.0776 - accuracy: 0.9754 - val_loss: 0.1055 - val_accuracy: 0.9750\n",
      "Epoch 8/10\n",
      "150/150 [==============================] - 9s 59ms/step - loss: 0.0659 - accuracy: 0.9775 - val_loss: 0.1110 - val_accuracy: 0.9667\n",
      "Epoch 9/10\n",
      "150/150 [==============================] - 8s 55ms/step - loss: 0.0396 - accuracy: 0.9883 - val_loss: 0.1138 - val_accuracy: 0.9650\n",
      "Epoch 10/10\n",
      "150/150 [==============================] - 8s 55ms/step - loss: 0.0309 - accuracy: 0.9908 - val_loss: 0.1025 - val_accuracy: 0.9700\n"
     ]
    },
    {
     "data": {
      "text/plain": [
       "<keras.callbacks.History at 0x20392c41b50>"
      ]
     },
     "execution_count": 43,
     "metadata": {},
     "output_type": "execute_result"
    }
   ],
   "source": [
    "model.fit(x_train,y_train,\n",
    "         batch_size=16,\n",
    "         verbose=1,\n",
    "         epochs=10,\n",
    "         validation_data=(x_test,y_test),\n",
    "        shuffle='False')"
   ]
  },
  {
   "cell_type": "code",
   "execution_count": 44,
   "id": "6445ddb8",
   "metadata": {},
   "outputs": [],
   "source": [
    "model.save('Brain_Tumor_detection.h5')"
   ]
  },
  {
   "cell_type": "code",
   "execution_count": 45,
   "id": "66ec6e13",
   "metadata": {},
   "outputs": [],
   "source": [
    "import cv2\n",
    "from keras.models import load_model\n",
    "from PIL import Image\n",
    "import numpy as np"
   ]
  },
  {
   "cell_type": "code",
   "execution_count": 46,
   "id": "d26d93d5",
   "metadata": {},
   "outputs": [],
   "source": [
    "model=load_model('Brain_Tumor_detection.h5')"
   ]
  },
  {
   "cell_type": "code",
   "execution_count": 47,
   "id": "64dd078b",
   "metadata": {},
   "outputs": [],
   "source": [
    "#Testing on Image"
   ]
  },
  {
   "cell_type": "code",
   "execution_count": 53,
   "id": "072fc8a7",
   "metadata": {},
   "outputs": [
    {
     "name": "stdout",
     "output_type": "stream",
     "text": [
      "[[[ 0  0  0]\n",
      "  [ 0  0  0]\n",
      "  [ 0  0  0]\n",
      "  ...\n",
      "  [ 0  0  0]\n",
      "  [ 0  0  0]\n",
      "  [ 0  0  0]]\n",
      "\n",
      " [[ 0  0  0]\n",
      "  [ 0  0  0]\n",
      "  [ 0  0  0]\n",
      "  ...\n",
      "  [ 0  0  0]\n",
      "  [ 0  0  0]\n",
      "  [ 0  0  0]]\n",
      "\n",
      " [[ 1  1  1]\n",
      "  [ 4  4  4]\n",
      "  [ 4  4  4]\n",
      "  ...\n",
      "  [ 2  2  2]\n",
      "  [ 0  0  0]\n",
      "  [ 0  0  0]]\n",
      "\n",
      " ...\n",
      "\n",
      " [[ 8  8  8]\n",
      "  [22 22 22]\n",
      "  [22 22 22]\n",
      "  ...\n",
      "  [11 11 11]\n",
      "  [ 0  0  0]\n",
      "  [ 0  0  0]]\n",
      "\n",
      " [[ 8  8  8]\n",
      "  [22 22 22]\n",
      "  [22 22 22]\n",
      "  ...\n",
      "  [11 11 11]\n",
      "  [ 0  0  0]\n",
      "  [ 0  0  0]]\n",
      "\n",
      " [[ 8  8  8]\n",
      "  [22 22 22]\n",
      "  [22 22 22]\n",
      "  ...\n",
      "  [10 10 10]\n",
      "  [ 0  0  0]\n",
      "  [ 0  0  0]]]\n"
     ]
    }
   ],
   "source": [
    "image=cv2.imread('D:\\\\Jupyter Notebook\\\\Brain_Tumor Project\\\\archive\\\\pred\\\\pred13.jpg')\n",
    "img=Image.fromarray(image)\n",
    "img=img.resize((64,64))\n",
    "img=np.array(img)\n",
    "print(img)\n",
    "input_img = np.expand_dims(img, axis=0)"
   ]
  },
  {
   "cell_type": "code",
   "execution_count": 54,
   "id": "d47b5b65",
   "metadata": {},
   "outputs": [
    {
     "name": "stdout",
     "output_type": "stream",
     "text": [
      "1/1 [==============================] - 0s 31ms/step\n",
      "[[1.]]\n",
      "Result Predicted\n"
     ]
    }
   ],
   "source": [
    "result=model.predict(input_img)\n",
    "print(result)\n",
    "print(\"Result Predicted\")"
   ]
  },
  {
   "cell_type": "code",
   "execution_count": 55,
   "id": "2466d50f",
   "metadata": {},
   "outputs": [],
   "source": [
    "#Testing on another image"
   ]
  },
  {
   "cell_type": "code",
   "execution_count": 56,
   "id": "c35378cc",
   "metadata": {},
   "outputs": [
    {
     "name": "stdout",
     "output_type": "stream",
     "text": [
      "[[[0 0 0]\n",
      "  [0 0 0]\n",
      "  [0 0 0]\n",
      "  ...\n",
      "  [0 0 0]\n",
      "  [0 0 0]\n",
      "  [0 0 0]]\n",
      "\n",
      " [[0 0 0]\n",
      "  [0 0 0]\n",
      "  [0 0 0]\n",
      "  ...\n",
      "  [0 0 0]\n",
      "  [0 0 0]\n",
      "  [0 0 0]]\n",
      "\n",
      " [[0 0 0]\n",
      "  [0 0 0]\n",
      "  [0 0 0]\n",
      "  ...\n",
      "  [0 0 0]\n",
      "  [0 0 0]\n",
      "  [0 0 0]]\n",
      "\n",
      " ...\n",
      "\n",
      " [[0 0 0]\n",
      "  [0 0 0]\n",
      "  [0 0 0]\n",
      "  ...\n",
      "  [0 0 0]\n",
      "  [0 0 0]\n",
      "  [0 0 0]]\n",
      "\n",
      " [[0 0 0]\n",
      "  [0 0 0]\n",
      "  [0 0 0]\n",
      "  ...\n",
      "  [0 0 0]\n",
      "  [0 0 0]\n",
      "  [0 0 0]]\n",
      "\n",
      " [[0 0 0]\n",
      "  [0 0 0]\n",
      "  [0 0 0]\n",
      "  ...\n",
      "  [0 0 0]\n",
      "  [0 0 0]\n",
      "  [0 0 0]]]\n"
     ]
    }
   ],
   "source": [
    "image=cv2.imread('D:\\\\Jupyter Notebook\\\\Brain_Tumor Project\\\\archive\\\\pred\\\\pred0.jpg')\n",
    "img=Image.fromarray(image)\n",
    "img=img.resize((64,64))\n",
    "img=np.array(img)\n",
    "print(img)\n",
    "input_img=np.expand_dims(img,axis=0)"
   ]
  },
  {
   "cell_type": "code",
   "execution_count": 57,
   "id": "90bc5cd6",
   "metadata": {},
   "outputs": [
    {
     "name": "stdout",
     "output_type": "stream",
     "text": [
      "1/1 [==============================] - 0s 39ms/step\n",
      "[[0.]]\n",
      "Result Predicted\n"
     ]
    }
   ],
   "source": [
    "result=model.predict(input_img)\n",
    "print(result)\n",
    "print(\"Result Predicted\")"
   ]
  },
  {
   "cell_type": "code",
   "execution_count": null,
   "id": "4a334f59",
   "metadata": {},
   "outputs": [],
   "source": []
  }
 ],
 "metadata": {
  "kernelspec": {
   "display_name": "Python 3 (ipykernel)",
   "language": "python",
   "name": "python3"
  },
  "language_info": {
   "codemirror_mode": {
    "name": "ipython",
    "version": 3
   },
   "file_extension": ".py",
   "mimetype": "text/x-python",
   "name": "python",
   "nbconvert_exporter": "python",
   "pygments_lexer": "ipython3",
   "version": "3.9.5"
  }
 },
 "nbformat": 4,
 "nbformat_minor": 5
}
